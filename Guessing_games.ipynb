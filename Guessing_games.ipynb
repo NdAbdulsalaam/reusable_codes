{
 "cells": [
  {
   "cell_type": "markdown",
   "metadata": {},
   "source": [
    "##  Guess the number!"
   ]
  },
  {
   "cell_type": "code",
   "execution_count": 1,
   "metadata": {},
   "outputs": [
    {
     "name": "stdout",
     "output_type": "stream",
     "text": [
      "You're about to play the guessing game. This game requires you to enter an integer between 0 and 100 \n",
      "Are you ready? Let's go!\n",
      "Too low\n",
      "Too low\n",
      "Too high\n",
      "Too high\n",
      "Too low\n",
      "50!\n",
      "You just got it right.\n"
     ]
    }
   ],
   "source": [
    "import random\n",
    "genNUm = random.randrange(101)\n",
    "print(\"You're about to play the guessing game. This game requires you to enter an integer between 0 and 100 \\nAre you ready? Let's go!\")   \n",
    "\n",
    "def guessing_game():\n",
    "    while True:\n",
    "        guess = input(\"Enter an integer between 0 and 100: \")\n",
    "        try: num = int(guess)\n",
    "        except:\n",
    "            print(\"Input not an integer\")\n",
    "            continue\n",
    "        if not 0 < num <100 :\n",
    "            print(\"Number not within the range\")\n",
    "        else:\n",
    "            if num < genNUm:\n",
    "                print(\"Too low\")\n",
    "            elif num > genNUm:\n",
    "                print(\"Too high\")\n",
    "            else:\n",
    "                print(f\"{genNUm}!\\nYou just got it right.\")\n",
    "                break\n",
    "            \n",
    "guessing_game()"
   ]
  },
  {
   "cell_type": "markdown",
   "metadata": {},
   "source": [
    "## Guess the word!"
   ]
  },
  {
   "cell_type": "code",
   "execution_count": 2,
   "metadata": {},
   "outputs": [
    {
     "name": "stdout",
     "output_type": "stream",
     "text": [
      "You have Three chances to guess the word correctly unless you lose\n",
      "Hints:\n",
      "\t This word is a 0 letter(s) word\n"
     ]
    },
    {
     "ename": "IndexError",
     "evalue": "string index out of range",
     "output_type": "error",
     "traceback": [
      "\u001b[1;31m---------------------------------------------------------------------------\u001b[0m",
      "\u001b[1;31mIndexError\u001b[0m                                Traceback (most recent call last)",
      "\u001b[1;32m~\\AppData\\Local\\Temp/ipykernel_10384/588040864.py\u001b[0m in \u001b[0;36m<module>\u001b[1;34m\u001b[0m\n\u001b[0;32m     22\u001b[0m \u001b[0mguess_limit\u001b[0m \u001b[1;33m=\u001b[0m \u001b[1;36m3\u001b[0m\u001b[1;33m\u001b[0m\u001b[1;33m\u001b[0m\u001b[0m\n\u001b[0;32m     23\u001b[0m \u001b[0mout_of_guesses\u001b[0m \u001b[1;33m=\u001b[0m \u001b[1;32mFalse\u001b[0m\u001b[1;33m\u001b[0m\u001b[1;33m\u001b[0m\u001b[0m\n\u001b[1;32m---> 24\u001b[1;33m \u001b[0mhint\u001b[0m\u001b[1;33m(\u001b[0m\u001b[0msecret_word\u001b[0m\u001b[1;33m)\u001b[0m\u001b[1;33m\u001b[0m\u001b[1;33m\u001b[0m\u001b[0m\n\u001b[0m\u001b[0;32m     25\u001b[0m \u001b[1;33m\u001b[0m\u001b[0m\n\u001b[0;32m     26\u001b[0m \u001b[1;32mwhile\u001b[0m \u001b[0mguess\u001b[0m\u001b[1;33m.\u001b[0m\u001b[0mislower\u001b[0m\u001b[1;33m(\u001b[0m\u001b[1;33m)\u001b[0m \u001b[1;33m!=\u001b[0m \u001b[0msecret_word\u001b[0m\u001b[1;33m.\u001b[0m\u001b[0mislower\u001b[0m\u001b[1;33m(\u001b[0m\u001b[1;33m)\u001b[0m \u001b[1;32mand\u001b[0m \u001b[0mout_of_guesses\u001b[0m \u001b[1;33m==\u001b[0m \u001b[1;32mFalse\u001b[0m\u001b[1;33m:\u001b[0m\u001b[1;33m\u001b[0m\u001b[1;33m\u001b[0m\u001b[0m\n",
      "\u001b[1;32m~\\AppData\\Local\\Temp/ipykernel_10384/588040864.py\u001b[0m in \u001b[0;36mhint\u001b[1;34m(secret_word)\u001b[0m\n\u001b[0;32m      6\u001b[0m     \u001b[0mprint\u001b[0m\u001b[1;33m(\u001b[0m\u001b[1;34m\"Hints:\"\u001b[0m\u001b[1;33m)\u001b[0m\u001b[1;33m\u001b[0m\u001b[1;33m\u001b[0m\u001b[0m\n\u001b[0;32m      7\u001b[0m     \u001b[0mprint\u001b[0m\u001b[1;33m(\u001b[0m\u001b[1;34mf'\\t This word is a {len(secret_word)} letter(s) word'\u001b[0m\u001b[1;33m)\u001b[0m\u001b[1;33m\u001b[0m\u001b[1;33m\u001b[0m\u001b[0m\n\u001b[1;32m----> 8\u001b[1;33m     \u001b[1;32mif\u001b[0m \u001b[0msecret_word\u001b[0m\u001b[1;33m[\u001b[0m\u001b[1;36m0\u001b[0m\u001b[1;33m]\u001b[0m\u001b[1;33m.\u001b[0m\u001b[0mlower\u001b[0m\u001b[1;33m(\u001b[0m\u001b[1;33m)\u001b[0m \u001b[1;32min\u001b[0m \u001b[0mvowel\u001b[0m\u001b[1;33m:\u001b[0m\u001b[1;33m\u001b[0m\u001b[1;33m\u001b[0m\u001b[0m\n\u001b[0m\u001b[0;32m      9\u001b[0m         \u001b[0mprint\u001b[0m\u001b[1;33m(\u001b[0m\u001b[1;34m\"\\t It starts with a vowel\"\u001b[0m\u001b[1;33m)\u001b[0m\u001b[1;33m\u001b[0m\u001b[1;33m\u001b[0m\u001b[0m\n\u001b[0;32m     10\u001b[0m     \u001b[1;32melse\u001b[0m\u001b[1;33m:\u001b[0m\u001b[1;33m\u001b[0m\u001b[1;33m\u001b[0m\u001b[0m\n",
      "\u001b[1;31mIndexError\u001b[0m: string index out of range"
     ]
    }
   ],
   "source": [
    "def hint(secret_word):\n",
    "    import string\n",
    "    vowel = \"aeiou\"\n",
    "    vowel_count = 0\n",
    "    is_letter = string.ascii_letters\n",
    "    print(\"Hints:\")\n",
    "    print(f'\\t This word is a {len(secret_word)} letter(s) word')\n",
    "    if secret_word[0].lower() in vowel:\n",
    "        print(\"\\t It starts with a vowel\")\n",
    "    else:\n",
    "        print(\"\\t It starts with a consonant\")\n",
    "    for letter in secret_word:\n",
    "        if letter.lower() in vowel:\n",
    "            vowel_count += 1\n",
    "    print(f'\\t It has {vowel_count} vowel(s) and {len(secret_word) - vowel_count} consonant(s).')\n",
    "       \n",
    "       \n",
    "print(\"You have Three chances to guess the word correctly unless you lose\")\n",
    "secret_word = input(\"Enter your secret word: \")\n",
    "guess = \"\"\n",
    "guess_count = 0\n",
    "guess_limit = 3\n",
    "out_of_guesses = False\n",
    "hint(secret_word)\n",
    "\n",
    "while guess.islower() != secret_word.islower() and out_of_guesses == False:\n",
    "    if guess_count == 0: \n",
    "        print(\"Start!\")\n",
    "        guess = input(\"Guess the word: \")\n",
    "        guess_count += 1\n",
    "    elif guess_count < guess_limit:\n",
    "        print(f\"Ops! You're wrong. try again. \\n{(guess_limit - guess_count)} tial(s) left\" )\n",
    "        guess = input(\"Guess the word: \")\n",
    "        guess_count += 1\n",
    "            \n",
    "    else:\n",
    "        out_of_guesses = True\n",
    "\n",
    "if out_of_guesses:\n",
    "    print(\"YOU LOSE, YOU CAN DO BETTER!\")\n",
    "else:\n",
    "    print(\"YOU WIN, PUT MORE EFFORT\")"
   ]
  },
  {
   "cell_type": "code",
   "execution_count": null,
   "metadata": {},
   "outputs": [],
   "source": []
  }
 ],
 "metadata": {
  "interpreter": {
   "hash": "ad2bdc8ecc057115af97d19610ffacc2b4e99fae6737bb82f5d7fb13d2f2c186"
  },
  "kernelspec": {
   "display_name": "Python 3.9.7 ('base')",
   "language": "python",
   "name": "python3"
  },
  "language_info": {
   "codemirror_mode": {
    "name": "ipython",
    "version": 3
   },
   "file_extension": ".py",
   "mimetype": "text/x-python",
   "name": "python",
   "nbconvert_exporter": "python",
   "pygments_lexer": "ipython3",
   "version": "3.9.7"
  },
  "orig_nbformat": 4
 },
 "nbformat": 4,
 "nbformat_minor": 2
}
