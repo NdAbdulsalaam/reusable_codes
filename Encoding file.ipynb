{
 "cells": [
  {
   "cell_type": "code",
   "execution_count": null,
   "id": "316270a1",
   "metadata": {},
   "outputs": [],
   "source": [
    "import codecs\n",
    "BLOCKSIZE = 1048576 # or some other, desired size in bytes\n",
    "with codecs.open(\"SourceFile\", \"r\") as sourceFile:\n",
    "    with codecs.open(\"RenameFile\", \"w\", \"utf-8\") as targetFile:\n",
    "        while True:\n",
    "            contents = sourceFile.read(BLOCKSIZE)\n",
    "            if not contents:\n",
    "                break\n",
    "            targetFile.write(contents)"
   ]
  }
 ],
 "metadata": {
  "kernelspec": {
   "display_name": "Python 3 (ipykernel)",
   "language": "python",
   "name": "python3"
  },
  "language_info": {
   "codemirror_mode": {
    "name": "ipython",
    "version": 3
   },
   "file_extension": ".py",
   "mimetype": "text/x-python",
   "name": "python",
   "nbconvert_exporter": "python",
   "pygments_lexer": "ipython3",
   "version": "3.9.7"
  }
 },
 "nbformat": 4,
 "nbformat_minor": 5
}
