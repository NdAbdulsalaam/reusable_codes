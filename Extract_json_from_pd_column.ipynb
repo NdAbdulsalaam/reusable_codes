{
 "cells": [
  {
   "cell_type": "code",
   "execution_count": null,
   "metadata": {},
   "outputs": [],
   "source": [
    "import pandas"
   ]
  },
  {
   "cell_type": "code",
   "execution_count": null,
   "metadata": {},
   "outputs": [],
   "source": [
    "df = pd.read_csv(\"filename.csv\", error_bad_lines=False, engine=\"python\")\n",
    "df.head()"
   ]
  },
  {
   "cell_type": "code",
   "execution_count": null,
   "metadata": {},
   "outputs": [],
   "source": [
    "\n",
    "\n",
    "def json_extractor(col):\n",
    "    import ast\n",
    "    result = []\n",
    "    for i in col.values:\n",
    "        f = False\n",
    "        for k in ast.literal_eval(i):\n",
    "            if 'name' in k.keys():\n",
    "                result.append(k['name'])\n",
    "                f = True\n",
    "                break\n",
    "        if not f:\n",
    "            result.append(0)\n",
    "    return result"
   ]
  },
  {
   "cell_type": "code",
   "execution_count": null,
   "metadata": {},
   "outputs": [],
   "source": [
    "df[\"genres\"] = json_extractor(df.genres)"
   ]
  }
 ],
 "metadata": {
  "language_info": {
   "name": "python"
  },
  "orig_nbformat": 4
 },
 "nbformat": 4,
 "nbformat_minor": 2
}
