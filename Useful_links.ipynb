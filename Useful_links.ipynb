{
 "cells": [
  {
   "cell_type": "markdown",
   "metadata": {},
   "source": [
    "<li><a href=\"https://automatetheboringstuff.com/\">Automate the boring stuff with python</a></li>\n",
    "<li><a href=\"https://medium.com/code-heroku/introduction-to-exploratory-data-analysis-eda-c0257f888676\">Exploratory data analysis EDA</a></li>\n",
    "<li><a href=\"https://medium.com/datavisualization/where-should-i-start-c53acdf04a1c\">Getting into data visualization</a></li>\n",
    "<li><a href=\"https://medium.com/swlh/seaborn-tutorial-2e749e084ad6\">Visualization with seaborn</a></li>\n",
    "<li><a href=\"https://medium.com/analytics-vidhya/understanding-the-p-value-in-regression-1fc2cd2568af\">Understanding the p-value in regressiony</a></li>\n",
    "<li><a href=\"http://www.ltcconline.net/greenl/courses/201/descstat/mean.htm\">Basic statistcs</a></li>\n",
    "<li><a href=\"https://hub.packtpub.com/python-functions-avoid-repeating-code/\">Python functions – Avoid repeating code</a></li>\n",
    "<li><a href=\"https://geo-python.github.io/site/notebooks/L2/gcp-2-describing-code.html\">Good coding practices - Describing your code</a></li>\n",
    "<li><a href=\"https://towardsdatascience.com/the-art-of-writing-efficient-code-comments-692213ed71b1\">The Art of Writing Efficient Code Comments</a></li>\n",
    "<li><a href=\"https://beautiful-soup-4.readthedocs.io/en/latest/\">Beautiful Soup Documentation</a></li>\n",
    "<li><a href=\"https://www.python-graph-gallery.com\">Python graph gallery</a></li>\n",
    "<li><a href=\"https://www.python-graph-gallery.com\">Python graph gallery</a></li>\n",
    "<li><a href=\"https://www.python-graph-gallery.com\">Python graph gallery</a></li>\n",
    "<li><a href=\"https://www.python-graph-gallery.com\">Python graph gallery</a></li>\n",
    "<li><a href=\"https://www.python-graph-gallery.com\">Python graph gallery</a></li>\n"
   ]
  }
 ],
 "metadata": {
  "kernelspec": {
   "display_name": "Python 3.9.7 ('base')",
   "language": "python",
   "name": "python3"
  },
  "language_info": {
   "name": "python",
   "version": "3.9.7"
  },
  "orig_nbformat": 4,
  "vscode": {
   "interpreter": {
    "hash": "ad2bdc8ecc057115af97d19610ffacc2b4e99fae6737bb82f5d7fb13d2f2c186"
   }
  }
 },
 "nbformat": 4,
 "nbformat_minor": 2
}
